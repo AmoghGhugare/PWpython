{
 "cells": [
  {
   "cell_type": "markdown",
   "id": "0c3a8094-ab6d-4d12-b2df-22cd71b32416",
   "metadata": {},
   "source": [
    "# Q1. Create an empty list.\n"
   ]
  },
  {
   "cell_type": "code",
   "execution_count": 1,
   "id": "10cb4724-d443-4b73-ad89-afcd1bb687de",
   "metadata": {},
   "outputs": [],
   "source": [
    "a = []\n"
   ]
  },
  {
   "cell_type": "code",
   "execution_count": 2,
   "id": "ef0ca8ff-f68d-4932-838c-fd66a1d684ce",
   "metadata": {},
   "outputs": [
    {
     "data": {
      "text/plain": [
       "list"
      ]
     },
     "execution_count": 2,
     "metadata": {},
     "output_type": "execute_result"
    }
   ],
   "source": [
    "type(a)"
   ]
  },
  {
   "cell_type": "markdown",
   "id": "f7a1c6d3-0edd-43c5-a141-41ddea375de0",
   "metadata": {},
   "source": [
    "# Q2. Create a list and add an element to the end of this list."
   ]
  },
  {
   "cell_type": "code",
   "execution_count": 4,
   "id": "39ee0dda-a64e-4314-ab74-3737fedb24ee",
   "metadata": {},
   "outputs": [],
   "source": [
    "b = [1,2,3,4]"
   ]
  },
  {
   "cell_type": "code",
   "execution_count": 5,
   "id": "86b8889c-bbe0-4e1a-bcb4-2bbf2ab791d5",
   "metadata": {},
   "outputs": [],
   "source": [
    "b.append(5) "
   ]
  },
  {
   "cell_type": "code",
   "execution_count": 6,
   "id": "0be3f3f6-b2c9-4efa-95de-bb200544f590",
   "metadata": {},
   "outputs": [
    {
     "data": {
      "text/plain": [
       "[1, 2, 3, 4, 5]"
      ]
     },
     "execution_count": 6,
     "metadata": {},
     "output_type": "execute_result"
    }
   ],
   "source": [
    "b"
   ]
  },
  {
   "cell_type": "markdown",
   "id": "8f629b95-c970-4ff5-82d3-31a61be5a688",
   "metadata": {},
   "source": [
    "# Q3. For the above created list print the last element."
   ]
  },
  {
   "cell_type": "code",
   "execution_count": 14,
   "id": "4b469336-e887-455d-9a28-32a67cd08072",
   "metadata": {},
   "outputs": [
    {
     "data": {
      "text/plain": [
       "4"
      ]
     },
     "execution_count": 14,
     "metadata": {},
     "output_type": "execute_result"
    }
   ],
   "source": [
    "b[3]"
   ]
  },
  {
   "cell_type": "markdown",
   "id": "8c122150-926a-45c7-a684-df0a33d699ff",
   "metadata": {},
   "source": [
    "# Q4. Reverse the above created list."
   ]
  },
  {
   "cell_type": "code",
   "execution_count": 15,
   "id": "5a73b918-9bd2-43e1-bb70-08b4c848763b",
   "metadata": {},
   "outputs": [],
   "source": [
    "b.reverse()"
   ]
  },
  {
   "cell_type": "code",
   "execution_count": 16,
   "id": "0feb34c3-b57c-431a-b047-0a8215d6324a",
   "metadata": {},
   "outputs": [
    {
     "data": {
      "text/plain": [
       "[5, 4, 3, 2, 1]"
      ]
     },
     "execution_count": 16,
     "metadata": {},
     "output_type": "execute_result"
    }
   ],
   "source": [
    "b"
   ]
  },
  {
   "cell_type": "markdown",
   "id": "a2f61f77-321d-4891-a138-8e7cc8db0f23",
   "metadata": {},
   "source": [
    "# Q5. Sort the above created list."
   ]
  },
  {
   "cell_type": "code",
   "execution_count": 17,
   "id": "571afa20-4cba-412c-9198-e8c98e2c284b",
   "metadata": {},
   "outputs": [],
   "source": [
    "b.sort()"
   ]
  },
  {
   "cell_type": "code",
   "execution_count": 18,
   "id": "33dfc494-828e-4dec-a203-4664030d3265",
   "metadata": {},
   "outputs": [
    {
     "data": {
      "text/plain": [
       "[1, 2, 3, 4, 5]"
      ]
     },
     "execution_count": 18,
     "metadata": {},
     "output_type": "execute_result"
    }
   ],
   "source": [
    "b"
   ]
  },
  {
   "cell_type": "markdown",
   "id": "5f642f20-222b-4191-aea0-c193bbe3f28e",
   "metadata": {},
   "source": [
    "# Q6. Create a list of your top three favorite movies, then print the second movie title."
   ]
  },
  {
   "cell_type": "code",
   "execution_count": 23,
   "id": "01137e2e-b416-4f70-8583-ef7b37038cfe",
   "metadata": {},
   "outputs": [],
   "source": [
    "c = [\"onepeice\", \"jjk\", \"naruto\"]"
   ]
  },
  {
   "cell_type": "code",
   "execution_count": 24,
   "id": "17238693-1789-4f16-b6db-75362e6fd8e0",
   "metadata": {},
   "outputs": [
    {
     "data": {
      "text/plain": [
       "'jjk'"
      ]
     },
     "execution_count": 24,
     "metadata": {},
     "output_type": "execute_result"
    }
   ],
   "source": [
    "c[1]"
   ]
  },
  {
   "cell_type": "markdown",
   "id": "25571d1a-e0df-459e-8baf-56d2fed9203d",
   "metadata": {},
   "source": [
    "# Q7. Create a list of your favorite animals, then add a new animal to the list and print the updated list."
   ]
  },
  {
   "cell_type": "code",
   "execution_count": 25,
   "id": "3855ff56-e022-4a97-b738-9fa21b97bde2",
   "metadata": {},
   "outputs": [],
   "source": [
    "d = [\"lion\",\"dog\",\"cat\"]"
   ]
  },
  {
   "cell_type": "code",
   "execution_count": 27,
   "id": "4b997e37-d2ce-4c9a-832b-57aa0dcdc2a6",
   "metadata": {},
   "outputs": [],
   "source": [
    "d.append(\"tiger\")"
   ]
  },
  {
   "cell_type": "code",
   "execution_count": 28,
   "id": "a1449ef5-b779-4a14-90e3-88ea76be00cf",
   "metadata": {},
   "outputs": [
    {
     "data": {
      "text/plain": [
       "['lion', 'dog', 'cat', 'tiger']"
      ]
     },
     "execution_count": 28,
     "metadata": {},
     "output_type": "execute_result"
    }
   ],
   "source": [
    "d"
   ]
  },
  {
   "cell_type": "markdown",
   "id": "b3a578c1-75da-4409-b26b-de785c5c617b",
   "metadata": {},
   "source": [
    "# Q8. Create a list of your favorite cities, then use the index() method to find the position of a specific city on the list and print it."
   ]
  },
  {
   "cell_type": "code",
   "execution_count": null,
   "id": "2e879cd3-9d7a-407a-91ba-d0f7f5b1b50f",
   "metadata": {},
   "outputs": [],
   "source": [
    "f = [\"mumbai\",\"thane\",\""
   ]
  }
 ],
 "metadata": {
  "kernelspec": {
   "display_name": "Python 3 (ipykernel)",
   "language": "python",
   "name": "python3"
  },
  "language_info": {
   "codemirror_mode": {
    "name": "ipython",
    "version": 3
   },
   "file_extension": ".py",
   "mimetype": "text/x-python",
   "name": "python",
   "nbconvert_exporter": "python",
   "pygments_lexer": "ipython3",
   "version": "3.10.8"
  }
 },
 "nbformat": 4,
 "nbformat_minor": 5
}
