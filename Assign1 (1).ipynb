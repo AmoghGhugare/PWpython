{
 "cells": [
  {
   "cell_type": "markdown",
   "id": "a4415229-70c3-4562-996b-84ec8fbe26d6",
   "metadata": {},
   "source": [
    "# Q1)Write all the conventions being followed while declaring a variable."
   ]
  },
  {
   "cell_type": "markdown",
   "id": "910ec9f8-670f-4f8e-b18c-830ab055f6aa",
   "metadata": {},
   "source": [
    "A variable name must start with letter or underscore character\n",
    "\n",
    "A variable name cannot start with number\n",
    "\n",
    "A variable name can only contain alpha numeric characters and underscores\n"
   ]
  },
  {
   "cell_type": "markdown",
   "id": "828c3638-319d-40a1-8770-a780068d2eec",
   "metadata": {},
   "source": [
    "# Q2. What will happen if we declare a restricted keyword as a variable?"
   ]
  },
  {
   "cell_type": "code",
   "execution_count": 1,
   "id": "fd42a441-7644-45ad-ba46-91c70157fa24",
   "metadata": {},
   "outputs": [
    {
     "ename": "SyntaxError",
     "evalue": "invalid syntax (801253371.py, line 1)",
     "output_type": "error",
     "traceback": [
      "\u001b[0;36m  Cell \u001b[0;32mIn[1], line 1\u001b[0;36m\u001b[0m\n\u001b[0;31m    shivchran saste= 2\u001b[0m\n\u001b[0m              ^\u001b[0m\n\u001b[0;31mSyntaxError\u001b[0m\u001b[0;31m:\u001b[0m invalid syntax\n"
     ]
    }
   ],
   "source": [
    "shivchran saste= 2"
   ]
  },
  {
   "cell_type": "markdown",
   "id": "2b1fda2d-5bd1-4a5a-9fe0-6ab2e3cab350",
   "metadata": {},
   "source": [
    "we can clearly see from the above eg that if we declare a restricted keyword as a variable we get a syntax error"
   ]
  },
  {
   "cell_type": "markdown",
   "id": "8ba3e36f-faf4-474a-a15e-989ae09b4a7d",
   "metadata": {},
   "source": [
    "# Q3. Can we actually declare a string as a variable name?"
   ]
  },
  {
   "cell_type": "code",
   "execution_count": 3,
   "id": "e702308d-e743-498e-913a-e7b82c5f4959",
   "metadata": {},
   "outputs": [
    {
     "ename": "SyntaxError",
     "evalue": "cannot assign to literal here. Maybe you meant '==' instead of '='? (3496482957.py, line 1)",
     "output_type": "error",
     "traceback": [
      "\u001b[0;36m  Cell \u001b[0;32mIn[3], line 1\u001b[0;36m\u001b[0m\n\u001b[0;31m    \"str\" = 3\u001b[0m\n\u001b[0m    ^\u001b[0m\n\u001b[0;31mSyntaxError\u001b[0m\u001b[0;31m:\u001b[0m cannot assign to literal here. Maybe you meant '==' instead of '='?\n"
     ]
    }
   ],
   "source": [
    "\"str\" = 3"
   ]
  },
  {
   "cell_type": "markdown",
   "id": "e2aad800-be39-4ad2-9251-28c8aa775f01",
   "metadata": {},
   "source": [
    "from the above eg we can see that we cannot declare string as a variable"
   ]
  },
  {
   "cell_type": "markdown",
   "id": "40834f18-a83d-43bd-8ac5-4f92fdbfa532",
   "metadata": {},
   "source": [
    "# Q4. Is it possible for us to declare “_” as a variable? If so, then write an example of it."
   ]
  },
  {
   "cell_type": "code",
   "execution_count": 4,
   "id": "1a2dfb0f-977d-4c7d-9199-c2e5433df4d3",
   "metadata": {},
   "outputs": [
    {
     "ename": "SyntaxError",
     "evalue": "cannot assign to literal here. Maybe you meant '==' instead of '='? (124427791.py, line 1)",
     "output_type": "error",
     "traceback": [
      "\u001b[0;36m  Cell \u001b[0;32mIn[4], line 1\u001b[0;36m\u001b[0m\n\u001b[0;31m    \"_\" = 2\u001b[0m\n\u001b[0m    ^\u001b[0m\n\u001b[0;31mSyntaxError\u001b[0m\u001b[0;31m:\u001b[0m cannot assign to literal here. Maybe you meant '==' instead of '='?\n"
     ]
    }
   ],
   "source": [
    "\"_\" = 2"
   ]
  },
  {
   "cell_type": "markdown",
   "id": "be435707-b06a-41f3-81b7-475b6f80babd",
   "metadata": {},
   "source": [
    "from the above eg we can clearly see that we cannot declare (\"_\") as a variable"
   ]
  },
  {
   "cell_type": "markdown",
   "id": "d380d36d-0c19-431f-819d-c75134d0913c",
   "metadata": {},
   "source": [
    "# Q5. Using an example, explain how the variables in python are dynamic in nature."
   ]
  },
  {
   "cell_type": "code",
   "execution_count": 5,
   "id": "dd158b04-2799-48b3-b446-f1d3353bc37a",
   "metadata": {},
   "outputs": [],
   "source": [
    "a = 2\n",
    "a = 3"
   ]
  },
  {
   "cell_type": "code",
   "execution_count": 6,
   "id": "3da1edf3-02b6-4260-b29e-f3d6bfad8bb4",
   "metadata": {},
   "outputs": [
    {
     "data": {
      "text/plain": [
       "3"
      ]
     },
     "execution_count": 6,
     "metadata": {},
     "output_type": "execute_result"
    }
   ],
   "source": [
    "a"
   ]
  },
  {
   "cell_type": "markdown",
   "id": "bbf2a5f3-d7e6-4b86-9420-eb6baf9695bc",
   "metadata": {},
   "source": [
    "as we can see variables in python are dynamic in nature as we cannot assign multiple data to a same variable"
   ]
  },
  {
   "cell_type": "code",
   "execution_count": null,
   "id": "c4ad6bff-b327-4672-911e-626698c2eb2d",
   "metadata": {},
   "outputs": [],
   "source": []
  }
 ],
 "metadata": {
  "kernelspec": {
   "display_name": "Python 3 (ipykernel)",
   "language": "python",
   "name": "python3"
  },
  "language_info": {
   "codemirror_mode": {
    "name": "ipython",
    "version": 3
   },
   "file_extension": ".py",
   "mimetype": "text/x-python",
   "name": "python",
   "nbconvert_exporter": "python",
   "pygments_lexer": "ipython3",
   "version": "3.10.8"
  }
 },
 "nbformat": 4,
 "nbformat_minor": 5
}
