{
 "cells": [
  {
   "cell_type": "markdown",
   "id": "48a61f7d-2e85-4d78-985f-00a2dc9f2b55",
   "metadata": {},
   "source": [
    "# Q1. What is a set in Python?"
   ]
  },
  {
   "cell_type": "markdown",
   "id": "8be74a09-51f9-461e-87fd-f726b5e0091d",
   "metadata": {},
   "source": [
    "A Set in Python programming is an unordered collection data type that is iterable, mutable and has no duplicate elements. Set are represented by { } (values enclosed in curly braces)"
   ]
  },
  {
   "cell_type": "markdown",
   "id": "bab99293-e508-40a8-960d-5bcddcea46ae",
   "metadata": {},
   "source": [
    "# Q2.How do you create a set in Python?"
   ]
  },
  {
   "cell_type": "code",
   "execution_count": 2,
   "id": "f1b60102-bbea-41a2-bcd7-241f47a2015f",
   "metadata": {},
   "outputs": [],
   "source": [
    "a={1,'Aniket',2,'Amogh'}"
   ]
  },
  {
   "cell_type": "code",
   "execution_count": 4,
   "id": "4d5d999f-f40c-46b2-bc96-4055024f1a74",
   "metadata": {},
   "outputs": [
    {
     "data": {
      "text/plain": [
       "set"
      ]
     },
     "execution_count": 4,
     "metadata": {},
     "output_type": "execute_result"
    }
   ],
   "source": [
    "type(a)"
   ]
  },
  {
   "cell_type": "markdown",
   "id": "189c3ead-0f01-42d9-9100-3e9771860d5a",
   "metadata": {},
   "source": [
    "# Q3. How do you add elements to a set in Python?"
   ]
  },
  {
   "cell_type": "code",
   "execution_count": 5,
   "id": "94a33315-2a13-4429-aef7-c668921cdeb4",
   "metadata": {},
   "outputs": [],
   "source": [
    "a.add(3)"
   ]
  },
  {
   "cell_type": "code",
   "execution_count": 6,
   "id": "997db121-7156-438b-b020-2c2cc2d1b570",
   "metadata": {},
   "outputs": [
    {
     "data": {
      "text/plain": [
       "{1, 2, 3, 'Amogh', 'Aniket'}"
      ]
     },
     "execution_count": 6,
     "metadata": {},
     "output_type": "execute_result"
    }
   ],
   "source": [
    "a"
   ]
  },
  {
   "cell_type": "markdown",
   "id": "f0629884-faa6-4677-8e7a-087fad244281",
   "metadata": {},
   "source": [
    "# Q4. How do you remove elements from a set in Python?"
   ]
  },
  {
   "cell_type": "code",
   "execution_count": 8,
   "id": "99e64668-6c1c-49d9-b88a-29b06f3af528",
   "metadata": {},
   "outputs": [],
   "source": [
    "a.remove(1)"
   ]
  },
  {
   "cell_type": "code",
   "execution_count": 9,
   "id": "195380e9-5a02-4efc-baa5-806e7eb842c9",
   "metadata": {},
   "outputs": [
    {
     "data": {
      "text/plain": [
       "{2, 3, 'Amogh', 'Aniket'}"
      ]
     },
     "execution_count": 9,
     "metadata": {},
     "output_type": "execute_result"
    }
   ],
   "source": [
    "a"
   ]
  },
  {
   "cell_type": "markdown",
   "id": "a1263696-68c1-4224-bb57-2beaaebc8db0",
   "metadata": {},
   "source": [
    "# Q5. How do you get the length of a set in Python?"
   ]
  },
  {
   "cell_type": "code",
   "execution_count": 10,
   "id": "2fbe232b-825a-48b9-bf2f-994c65f7bbf6",
   "metadata": {},
   "outputs": [
    {
     "data": {
      "text/plain": [
       "4"
      ]
     },
     "execution_count": 10,
     "metadata": {},
     "output_type": "execute_result"
    }
   ],
   "source": [
    "len(a)"
   ]
  },
  {
   "cell_type": "code",
   "execution_count": null,
   "id": "fc79b525-0367-468b-9c39-eeba03d10fdf",
   "metadata": {},
   "outputs": [],
   "source": []
  }
 ],
 "metadata": {
  "kernelspec": {
   "display_name": "Python 3 (ipykernel)",
   "language": "python",
   "name": "python3"
  },
  "language_info": {
   "codemirror_mode": {
    "name": "ipython",
    "version": 3
   },
   "file_extension": ".py",
   "mimetype": "text/x-python",
   "name": "python",
   "nbconvert_exporter": "python",
   "pygments_lexer": "ipython3",
   "version": "3.10.8"
  }
 },
 "nbformat": 4,
 "nbformat_minor": 5
}
