{
 "cells": [
  {
   "cell_type": "markdown",
   "id": "19bb3a8e-b310-4920-bbda-4727dda4a384",
   "metadata": {},
   "source": [
    "# Q1. What is the syntax for adding an element to a list in Python?"
   ]
  },
  {
   "cell_type": "markdown",
   "id": "cc7e6ece-cc2e-4b27-89aa-74c62f7f9710",
   "metadata": {},
   "source": [
    "syntax for adding element in list\n",
    "list.append(element to be added)"
   ]
  },
  {
   "cell_type": "markdown",
   "id": "ccaf113b-3fd1-47c7-b011-7cd141351190",
   "metadata": {},
   "source": [
    "# Q2. What is the difference between remove() and pop() functions in Python?"
   ]
  },
  {
   "cell_type": "markdown",
   "id": "c1e17fcb-b19a-468c-80fb-883e7a312af3",
   "metadata": {},
   "source": [
    "Pop returns the item that is removed from the list, while remove does not145.\n",
    "Pop removes an item by index, while remove removes an item by value2345.\n",
    "Pop requires an index as a parameter, while remove requires a value as a parameter24.\n",
    "Pop raises IndexError if the index is out of range, while remove raises ValueError if the value is not in the list3"
   ]
  },
  {
   "cell_type": "markdown",
   "id": "da17fd4f-5b14-4079-aad2-7d1749d940df",
   "metadata": {},
   "source": [
    "# Q3. Write a Python code to sort a list in descending order."
   ]
  },
  {
   "cell_type": "code",
   "execution_count": 4,
   "id": "e1cec328-7006-4804-8af7-39d5ca1f4bc6",
   "metadata": {},
   "outputs": [
    {
     "data": {
      "text/plain": [
       "[5, 4, 2, 1]"
      ]
     },
     "execution_count": 4,
     "metadata": {},
     "output_type": "execute_result"
    }
   ],
   "source": [
    "a=[2,5,1,4]\n",
    "a.sort(reverse=True)\n",
    "a"
   ]
  },
  {
   "cell_type": "code",
   "execution_count": 11,
   "id": "9f90fb22-e55d-4d84-accf-fa34a5b6eef3",
   "metadata": {},
   "outputs": [
    {
     "name": "stdout",
     "output_type": "stream",
     "text": [
      "1\n"
     ]
    }
   ],
   "source": [
    "count=0\n",
    "for i in a:\n",
    "    if i==5:\n",
    "        count=count+1\n",
    "        print(count)\n"
   ]
  },
  {
   "cell_type": "markdown",
   "id": "d47fe38c-128a-4e28-b8b8-5cef06a3989a",
   "metadata": {},
   "source": [
    "# Q5. Write a Python code to reverse a list."
   ]
  },
  {
   "cell_type": "code",
   "execution_count": 12,
   "id": "725940c0-3aaa-40f5-b093-1d679a55f697",
   "metadata": {},
   "outputs": [
    {
     "data": {
      "text/plain": [
       "[1, 2, 4, 5]"
      ]
     },
     "execution_count": 12,
     "metadata": {},
     "output_type": "execute_result"
    }
   ],
   "source": [
    "b=[7,2,54,6,7]\n",
    "b.reverese"
   ]
  },
  {
   "cell_type": "code",
   "execution_count": null,
   "id": "c541f81c-becf-45af-8eb4-4694f2311005",
   "metadata": {},
   "outputs": [],
   "source": []
  }
 ],
 "metadata": {
  "kernelspec": {
   "display_name": "Python 3 (ipykernel)",
   "language": "python",
   "name": "python3"
  },
  "language_info": {
   "codemirror_mode": {
    "name": "ipython",
    "version": 3
   },
   "file_extension": ".py",
   "mimetype": "text/x-python",
   "name": "python",
   "nbconvert_exporter": "python",
   "pygments_lexer": "ipython3",
   "version": "3.10.8"
  }
 },
 "nbformat": 4,
 "nbformat_minor": 5
}
