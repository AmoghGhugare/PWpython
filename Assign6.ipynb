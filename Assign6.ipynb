{
 "cells": [
  {
   "cell_type": "markdown",
   "id": "3e947d74-07f9-4ee2-9c82-2194e8a5b6ca",
   "metadata": {},
   "source": [
    "# Q1. What is a tuple in Python?"
   ]
  },
  {
   "cell_type": "markdown",
   "id": "6d753245-8d53-4b9d-afcd-d30ce281f41e",
   "metadata": {},
   "source": [
    "Tuples are used to store multiple items in a single variable. Tuple is one of 4 built-in data types in Python used to store collections of data, the other 3 are List, Set, and Dictionary, all with different qualities and usage. A tuple is a collection which is ordered and unchangeable. Tuples are written with round brackets."
   ]
  },
  {
   "cell_type": "markdown",
   "id": "e08d046b-54f7-4add-8024-ebf7ed811ea1",
   "metadata": {},
   "source": [
    "# Q2. How do you create a tuple in Python?"
   ]
  },
  {
   "cell_type": "code",
   "execution_count": 2,
   "id": "614e115f-c27f-4db1-b077-466fc5ee743c",
   "metadata": {},
   "outputs": [],
   "source": [
    "a=(1,2,3,4)"
   ]
  },
  {
   "cell_type": "code",
   "execution_count": 4,
   "id": "4a4b84d4-5d4f-4cd6-ae70-d88da89ab43a",
   "metadata": {},
   "outputs": [
    {
     "data": {
      "text/plain": [
       "(1, 2, 3, 4)"
      ]
     },
     "execution_count": 4,
     "metadata": {},
     "output_type": "execute_result"
    }
   ],
   "source": [
    "a\n"
   ]
  },
  {
   "cell_type": "code",
   "execution_count": 5,
   "id": "835d5198-7685-404b-8f48-c190ed04dbc1",
   "metadata": {},
   "outputs": [
    {
     "data": {
      "text/plain": [
       "tuple"
      ]
     },
     "execution_count": 5,
     "metadata": {},
     "output_type": "execute_result"
    }
   ],
   "source": [
    "type(a)"
   ]
  },
  {
   "cell_type": "markdown",
   "id": "3978b74c-b609-4e1f-bcd0-2bbcaf41cb87",
   "metadata": {},
   "source": [
    "# Q3. What is the difference between a tuple and a list in Python?"
   ]
  },
  {
   "cell_type": "raw",
   "id": "62ece463-dab7-4221-995c-5d6f0d7d1a8e",
   "metadata": {},
   "source": [
    "List and Tuple in Python are the classes of Python Data Structures. The list is dynamic, whereas the tuple has static characteristics. This means that lists can be modified whereas tuples cannot be modified, the tuple is faster than the list because of static in nature. Lists are denoted by the square brackets but tuples are denoted as parenthesis."
   ]
  },
  {
   "cell_type": "markdown",
   "id": "d2694ca7-aec1-4f2f-83b0-77fa51b98510",
   "metadata": {},
   "source": [
    "# Q4. Can a tuple be changed in Python?"
   ]
  },
  {
   "cell_type": "markdown",
   "id": "55b91108-826f-4f36-a264-9eec52d4bbab",
   "metadata": {},
   "source": [
    "In Python, tuples are immutable. This means that you cannot modify them directly by adding, changing, or removing items (elements). If you need to work with mutable data, use lists instead. However, if you must update a tuple, you can convert it to a list, perform the required modifications, and then convert it back to a tuple."
   ]
  },
  {
   "cell_type": "markdown",
   "id": "1c7ca7c5-380c-489d-bf7f-98e884e7b8bf",
   "metadata": {},
   "source": [
    "# Q5. How do you access elements in a tuple?"
   ]
  },
  {
   "cell_type": "code",
   "execution_count": null,
   "id": "00a7edef-3982-41c2-a258-ae6184e9f257",
   "metadata": {},
   "outputs": [],
   "source": [
    "a"
   ]
  }
 ],
 "metadata": {
  "kernelspec": {
   "display_name": "Python 3 (ipykernel)",
   "language": "python",
   "name": "python3"
  },
  "language_info": {
   "codemirror_mode": {
    "name": "ipython",
    "version": 3
   },
   "file_extension": ".py",
   "mimetype": "text/x-python",
   "name": "python",
   "nbconvert_exporter": "python",
   "pygments_lexer": "ipython3",
   "version": "3.10.8"
  }
 },
 "nbformat": 4,
 "nbformat_minor": 5
}
