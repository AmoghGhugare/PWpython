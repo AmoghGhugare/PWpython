{
 "cells": [
  {
   "cell_type": "markdown",
   "id": "28a7d571-4f34-42a8-8124-28fb02502fac",
   "metadata": {},
   "source": [
    "# Q1. How can we store a s1ngle quote (‘) as a str1ng 1n a var1able?"
   ]
  },
  {
   "cell_type": "code",
   "execution_count": 1,
   "id": "7631cade-2839-4aa0-9960-95eccbe4c354",
   "metadata": {},
   "outputs": [],
   "source": [
    "a=(\"'\")"
   ]
  },
  {
   "cell_type": "code",
   "execution_count": 2,
   "id": "4a908c8c-b809-4fad-9276-e7568658cb8c",
   "metadata": {},
   "outputs": [
    {
     "data": {
      "text/plain": [
       "\"'\""
      ]
     },
     "execution_count": 2,
     "metadata": {},
     "output_type": "execute_result"
    }
   ],
   "source": [
    "a"
   ]
  },
  {
   "cell_type": "code",
   "execution_count": 3,
   "id": "985f7287-eae5-41d7-9b49-b65cdb07d1b7",
   "metadata": {},
   "outputs": [
    {
     "data": {
      "text/plain": [
       "str"
      ]
     },
     "execution_count": 3,
     "metadata": {},
     "output_type": "execute_result"
    }
   ],
   "source": [
    "type(a)"
   ]
  },
  {
   "cell_type": "markdown",
   "id": "4f571fec-9309-4fc3-8d7b-b60f28c84356",
   "metadata": {},
   "source": [
    "### Q2. Refer the below var1able:x = ‘a (Here, is x a character type or str1ng type var1able? Support your answer w1th an explanation."
   ]
  },
  {
   "cell_type": "code",
   "execution_count": 10,
   "id": "d1d6f6c7-16cb-49ea-9219-e7ab97e6d031",
   "metadata": {},
   "outputs": [],
   "source": [
    "x='a'"
   ]
  },
  {
   "cell_type": "code",
   "execution_count": 11,
   "id": "1d0a902b-c09e-44a5-860b-75d07d7d3a06",
   "metadata": {},
   "outputs": [
    {
     "data": {
      "text/plain": [
       "str"
      ]
     },
     "execution_count": 11,
     "metadata": {},
     "output_type": "execute_result"
    }
   ],
   "source": [
    "type(x)"
   ]
  },
  {
   "cell_type": "markdown",
   "id": "da03d911-e722-4631-83a5-3ddebc75edc0",
   "metadata": {},
   "source": [
    "Here we can clearly see that data type x is str."
   ]
  },
  {
   "cell_type": "markdown",
   "id": "d8c52a8a-d9ef-4921-889e-68aa4223313b",
   "metadata": {},
   "source": [
    "#Q.3 Apply the follow1ng funct1ons on th1s var1able: ‘Welcome to Python foun at1on course'"
   ]
  },
  {
   "cell_type": "code",
   "execution_count": 17,
   "id": "cd152e84-1575-4556-8c50-b2194f2904d7",
   "metadata": {},
   "outputs": [],
   "source": [
    "a='Welcome to Python function course'\n",
    "b='Help'"
   ]
  },
  {
   "cell_type": "code",
   "execution_count": 13,
   "id": "f6517a14-d382-4315-9f9f-12a7eb24fdb2",
   "metadata": {},
   "outputs": [
    {
     "data": {
      "text/plain": [
       "11"
      ]
     },
     "execution_count": 13,
     "metadata": {},
     "output_type": "execute_result"
    }
   ],
   "source": [
    "a.find('P')"
   ]
  },
  {
   "cell_type": "code",
   "execution_count": 14,
   "id": "64bb98ca-b19b-4fbf-a3d4-31705a59056b",
   "metadata": {},
   "outputs": [
    {
     "data": {
      "text/plain": [
       "1"
      ]
     },
     "execution_count": 14,
     "metadata": {},
     "output_type": "execute_result"
    }
   ],
   "source": [
    "a.count('P')"
   ]
  },
  {
   "cell_type": "code",
   "execution_count": 16,
   "id": "da85ccc9-353d-4c2b-8c42-c6bc8e9a38a5",
   "metadata": {},
   "outputs": [
    {
     "data": {
      "text/plain": [
       "33"
      ]
     },
     "execution_count": 16,
     "metadata": {},
     "output_type": "execute_result"
    }
   ],
   "source": [
    "len(a)"
   ]
  },
  {
   "cell_type": "code",
   "execution_count": 18,
   "id": "5db6811e-3713-41ac-8bee-046664965f94",
   "metadata": {},
   "outputs": [
    {
     "data": {
      "text/plain": [
       "'Welcome to Python function courseHelp'"
      ]
     },
     "execution_count": 18,
     "metadata": {},
     "output_type": "execute_result"
    }
   ],
   "source": [
    "c=a+b\n",
    "c"
   ]
  },
  {
   "cell_type": "markdown",
   "id": "ac45a391-3daf-41d7-a221-92347926ef4f",
   "metadata": {},
   "source": [
    "# Q4. For the variable: word= ‘PanaJi@12256"
   ]
  },
  {
   "cell_type": "code",
   "execution_count": 30,
   "id": "3cb3e100-3ecb-4a00-9760-2d3f7bf28adc",
   "metadata": {},
   "outputs": [],
   "source": [
    "word='PanaJi@12256'"
   ]
  },
  {
   "cell_type": "code",
   "execution_count": 31,
   "id": "59a83bac-28ac-4b29-81eb-2fa2f59c114d",
   "metadata": {},
   "outputs": [
    {
     "data": {
      "text/plain": [
       "4"
      ]
     },
     "execution_count": 31,
     "metadata": {},
     "output_type": "execute_result"
    }
   ],
   "source": [
    "count=0\n",
    "for a in word:\n",
    "    if(a.islower()):\n",
    "        count+=1\n",
    "    \n",
    "count"
   ]
  },
  {
   "cell_type": "code",
   "execution_count": 32,
   "id": "06298604-f504-4e3e-9cae-c9c404d2f307",
   "metadata": {},
   "outputs": [
    {
     "data": {
      "text/plain": [
       "2"
      ]
     },
     "execution_count": 32,
     "metadata": {},
     "output_type": "execute_result"
    }
   ],
   "source": [
    "count=0\n",
    "for a in word:\n",
    "    if(a.isupper()):\n",
    "        count+=1\n",
    "    \n",
    "count"
   ]
  },
  {
   "cell_type": "code",
   "execution_count": 33,
   "id": "88ce48f6-a5a3-444c-b0e2-f404e20dbd09",
   "metadata": {},
   "outputs": [
    {
     "data": {
      "text/plain": [
       "5"
      ]
     },
     "execution_count": 33,
     "metadata": {},
     "output_type": "execute_result"
    }
   ],
   "source": [
    "count=0\n",
    "for a in word:\n",
    "    if(a.isnumeric()):\n",
    "        count+=1\n",
    "    \n",
    "count"
   ]
  },
  {
   "cell_type": "markdown",
   "id": "c401f700-3b9d-4197-9eb1-d3971d6e3e3c",
   "metadata": {},
   "source": [
    "#Q5. Write a code to store a numerical value inside var1able then convert 1t 1nto str1ng"
   ]
  },
  {
   "cell_type": "code",
   "execution_count": 35,
   "id": "0f07f793-f35a-4837-8bc4-1e48fdff99f0",
   "metadata": {},
   "outputs": [
    {
     "data": {
      "text/plain": [
       "int"
      ]
     },
     "execution_count": 35,
     "metadata": {},
     "output_type": "execute_result"
    }
   ],
   "source": [
    "a=10\n",
    "b=\"23\n",
    "type(a)"
   ]
  },
  {
   "cell_type": "code",
   "execution_count": 39,
   "id": "94986860-5c94-41ff-b0e4-35d58dd0c486",
   "metadata": {},
   "outputs": [
    {
     "data": {
      "text/plain": [
       "'10'"
      ]
     },
     "execution_count": 39,
     "metadata": {},
     "output_type": "execute_result"
    }
   ],
   "source": [
    "str(a)"
   ]
  },
  {
   "cell_type": "code",
   "execution_count": 40,
   "id": "68f00280-5bf3-4dbf-878c-d865402c4865",
   "metadata": {},
   "outputs": [
    {
     "data": {
      "text/plain": [
       "int"
      ]
     },
     "execution_count": 40,
     "metadata": {},
     "output_type": "execute_result"
    }
   ],
   "source": [
    "type(a)"
   ]
  },
  {
   "cell_type": "code",
   "execution_count": null,
   "id": "1b47f6b3-2aac-453c-931b-0e422fa9b9d4",
   "metadata": {},
   "outputs": [],
   "source": []
  }
 ],
 "metadata": {
  "kernelspec": {
   "display_name": "Python 3 (ipykernel)",
   "language": "python",
   "name": "python3"
  },
  "language_info": {
   "codemirror_mode": {
    "name": "ipython",
    "version": 3
   },
   "file_extension": ".py",
   "mimetype": "text/x-python",
   "name": "python",
   "nbconvert_exporter": "python",
   "pygments_lexer": "ipython3",
   "version": "3.10.8"
  }
 },
 "nbformat": 4,
 "nbformat_minor": 5
}
